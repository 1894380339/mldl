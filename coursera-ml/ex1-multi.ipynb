{
 "cells": [
  {
   "cell_type": "markdown",
   "metadata": {},
   "source": [
    "# Coursera ML Ex1 - Multivariate Linear Regression\n",
    "## 1. Import packages"
   ]
  },
  {
   "cell_type": "code",
   "execution_count": 1,
   "metadata": {},
   "outputs": [],
   "source": [
    "import os\n",
    "import pandas as pd\n",
    "import numpy as np\n",
    "import matplotlib.pyplot as plt\n",
    "from matplotlib import cm\n",
    "from matplotlib.ticker import LinearLocator, FormatStrFormatter\n",
    "from mpl_toolkits.mplot3d import Axes3D"
   ]
  },
  {
   "cell_type": "markdown",
   "metadata": {},
   "source": [
    "## 2. Define constants"
   ]
  },
  {
   "cell_type": "code",
   "execution_count": 2,
   "metadata": {},
   "outputs": [],
   "source": [
    "# training dataset\n",
    "DATA_FILE_NAME = './ex1data2.csv'\n",
    "# gradient descent max step \n",
    "INTERATIONS = 1500\n",
    "# learning rate\n",
    "ALPHA = 0.01"
   ]
  },
  {
   "cell_type": "markdown",
   "metadata": {},
   "source": [
    "## 3. Normalization"
   ]
  },
  {
   "cell_type": "code",
   "execution_count": 3,
   "metadata": {},
   "outputs": [],
   "source": [
    "def normalizer(X, mu, sigma):\n",
    "    return (X - mu) / sigma"
   ]
  },
  {
   "cell_type": "markdown",
   "metadata": {},
   "source": [
    "## 4. Scale features"
   ]
  },
  {
   "cell_type": "code",
   "execution_count": 4,
   "metadata": {},
   "outputs": [],
   "source": [
    "def scale_features(X):\n",
    "    mu = np.mean(X, axis=0)\n",
    "    sigma = np.std(X, axis=0)\n",
    "    X = normalizer(X, mu, sigma)\n",
    "    return X, mu, sigma"
   ]
  },
  {
   "cell_type": "markdown",
   "metadata": {},
   "source": [
    "## 5. Cost function"
   ]
  },
  {
   "cell_type": "code",
   "execution_count": 5,
   "metadata": {},
   "outputs": [],
   "source": [
    "def compute_cost(X, y, theta):\n",
    "    # number of training examples\n",
    "    m = y.size\n",
    "    # cost\n",
    "    j = np.sum((np.dot(X, theta) - y) ** 2)\n",
    "    j /= (2*m)\n",
    "    return j"
   ]
  },
  {
   "cell_type": "markdown",
   "metadata": {},
   "source": [
    "## 6. Gradient Descent"
   ]
  },
  {
   "cell_type": "code",
   "execution_count": 6,
   "metadata": {},
   "outputs": [],
   "source": [
    "def gradient_descent(X, y, theta, alpha, num_inters):\n",
    "    # number of training examples\n",
    "    m = y.size\n",
    "    jHistory = np.empty(num_inters)\n",
    "\n",
    "    for i in range(num_inters):\n",
    "        delta = np.dot(np.dot(X, theta) - y, X) / m\n",
    "        theta -= alpha * delta\n",
    "        jHistory[i] = compute_cost(X, y, theta)\n",
    "    \n",
    "    return theta, jHistory"
   ]
  },
  {
   "cell_type": "markdown",
   "metadata": {},
   "source": [
    "## 7. Load training dataset"
   ]
  },
  {
   "cell_type": "code",
   "execution_count": 7,
   "metadata": {
    "scrolled": true
   },
   "outputs": [],
   "source": [
    "df = pd.read_csv(DATA_FILE_NAME)\n",
    "# extract X,y\n",
    "X = df.values[:,0:2]\n",
    "y = df.values[:,2]\n",
    "m = y.size # number of training examples\n",
    "\n",
    "# scalce features\n",
    "x = X[0, 0]\n",
    "X, mu, sigma = scale_features(X)\n",
    "\n",
    "# add X_0 to X\n",
    "X = np.concatenate((np.ones((m,1)), X), axis=1)"
   ]
  },
  {
   "cell_type": "markdown",
   "metadata": {},
   "source": [
    "## 8. Learn parameters"
   ]
  },
  {
   "cell_type": "code",
   "execution_count": 8,
   "metadata": {},
   "outputs": [
    {
     "name": "stdout",
     "output_type": "stream",
     "text": [
      "(array([ 340412.56301439,  109370.05670466,   -6500.61509507]), array([  6.42977763e+10,   6.30310183e+10,   6.17906942e+10, ...,\n",
      "         2.04328276e+09,   2.04328273e+09,   2.04328271e+09]))\n"
     ]
    }
   ],
   "source": [
    "theta, jHistory = gradient_descent(X, y, np.zeros(X.shape[1]), ALPHA, INTERATIONS)\n",
    "print(theta, jHistory)"
   ]
  },
  {
   "cell_type": "markdown",
   "metadata": {},
   "source": [
    "## 9. Predict"
   ]
  },
  {
   "cell_type": "code",
   "execution_count": 9,
   "metadata": {},
   "outputs": [
    {
     "name": "stdout",
     "output_type": "stream",
     "text": [
      "293098.466676\n"
     ]
    }
   ],
   "source": [
    "# predict for 1650, 3\n",
    "x = normalizer(np.array([1650, 3]), mu, sigma)\n",
    "print(np.dot(np.insert(x, 0, 1), theta))"
   ]
  },
  {
   "cell_type": "code",
   "execution_count": null,
   "metadata": {},
   "outputs": [],
   "source": []
  }
 ],
 "metadata": {
  "kernelspec": {
   "display_name": "Python 2",
   "language": "python",
   "name": "python2"
  },
  "language_info": {
   "codemirror_mode": {
    "name": "ipython",
    "version": 2
   },
   "file_extension": ".py",
   "mimetype": "text/x-python",
   "name": "python",
   "nbconvert_exporter": "python",
   "pygments_lexer": "ipython2",
   "version": "2.7.12"
  }
 },
 "nbformat": 4,
 "nbformat_minor": 2
}
