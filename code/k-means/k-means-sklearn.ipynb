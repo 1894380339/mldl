{
 "cells": [
  {
   "cell_type": "markdown",
   "metadata": {},
   "source": [
    "# Implement K-Means Clustering"
   ]
  },
  {
   "cell_type": "code",
   "execution_count": 17,
   "metadata": {},
   "outputs": [],
   "source": [
    "import pandas as pd\n",
    "import numpy as np\n",
    "import matplotlib.pyplot as plt"
   ]
  },
  {
   "cell_type": "code",
   "execution_count": 22,
   "metadata": {},
   "outputs": [
    {
     "data": {
      "image/png": "[encoded data removed]",
      "text/plain": [
       "<matplotlib.figure.Figure at 0x10f2f0ad0>"
      ]
     },
     "metadata": {},
     "output_type": "display_data"
    }
   ],
   "source": [
    "# group size\n",
    "K = 3\n",
    "\n",
    "# create random data\n",
    "from sklearn.datasets import make_blobs\n",
    "X,_ = make_blobs(n_samples=150,\n",
    "               n_features=2, \n",
    "               centers=K,\n",
    "               cluster_std=0.5,\n",
    "               shuffle=True,\n",
    "               random_state=0)\n",
    "\n",
    "# show data\n",
    "plt.scatter(X[:,0], X[:,1], c='red', marker='o', s=50)\n",
    "plt.grid(); plt.show()"
   ]
  },
  {
   "cell_type": "code",
   "execution_count": 14,
   "metadata": {},
   "outputs": [],
   "source": [
    "# 1. init center points\n",
    "def init_centers(X, k):\n",
    "    return X[np.random.choice(X.shape[0], k, replace=False)]\n",
    "\n",
    "# 2.  grouping\n",
    "def group_data(X, centers):\n",
    "    return 0\n",
    "\n",
    "# 3. Update center points\n",
    "def update_centers(X, y, k):\n",
    "    return 0\n",
    "\n",
    "# kmeans algorithm\n",
    "def kmeans(X, k):\n",
    "    centers = init_centers(X, k)\n",
    "    y = []\n",
    "    while True:\n",
    "        # save pre-loop groups\n",
    "        y_old = y\n",
    "        # grouping\n",
    "        y = group_data(X, centers)\n",
    "        # break while loop if groups are not changed\n",
    "        if np.array_equal(y, y_old):\n",
    "            break\n",
    "\n",
    "        #  update centers\n",
    "        centers = update_centers(X, y, k)\n",
    "\n",
    "    return (centers, y)"
   ]
  },
  {
   "cell_type": "code",
   "execution_count": 16,
   "metadata": {},
   "outputs": [
    {
     "name": "stdout",
     "output_type": "stream",
     "text": [
      "[[ 1.8706766   0.77797407]\n",
      " [-2.49504392  3.01227156]\n",
      " [ 2.03562611  0.31361691]]\n"
     ]
    },
    {
     "ename": "TypeError",
     "evalue": "'int' object has no attribute '__getitem__'",
     "output_type": "error",
     "traceback": [
      "\u001b[0;31m---------------------------------------------------------------------------\u001b[0m",
      "\u001b[0;31mTypeError\u001b[0m                                 Traceback (most recent call last)",
      "\u001b[0;32m<ipython-input-16-5870241f32ab>\u001b[0m in \u001b[0;36m<module>\u001b[0;34m()\u001b[0m\n\u001b[1;32m     11\u001b[0m                     label='cluster '+ str(i+1))\n\u001b[1;32m     12\u001b[0m \u001b[0;34m\u001b[0m\u001b[0m\n\u001b[0;32m---> 13\u001b[0;31m plt.scatter(centers[:,0],\n\u001b[0m\u001b[1;32m     14\u001b[0m                     \u001b[0mcenters\u001b[0m\u001b[0;34m[\u001b[0m\u001b[0;34m:\u001b[0m\u001b[0;34m,\u001b[0m\u001b[0;36m1\u001b[0m\u001b[0;34m]\u001b[0m\u001b[0;34m,\u001b[0m\u001b[0;34m\u001b[0m\u001b[0m\n\u001b[1;32m     15\u001b[0m                     \u001b[0ms\u001b[0m\u001b[0;34m=\u001b[0m\u001b[0;36m250\u001b[0m\u001b[0;34m,\u001b[0m\u001b[0;34m\u001b[0m\u001b[0m\n",
      "\u001b[0;31mTypeError\u001b[0m: 'int' object has no attribute '__getitem__'"
     ]
    },
    {
     "data": {
      "image/png": "[encoded data removed]",
      "text/plain": [
       "<matplotlib.figure.Figure at 0x10ee83290>"
      ]
     },
     "metadata": {},
     "output_type": "display_data"
    }
   ],
   "source": [
    "# run k-means\n",
    "centers, y = kmeans(X, K)\n",
    "\n",
    "# plot result\n",
    "for i in range(K):\n",
    "    plt.scatter(X[y==i,0],\n",
    "                    X[y==i,1],\n",
    "                    s=50,\n",
    "                    #c='lightgreen',\n",
    "                    #marker='s',\n",
    "                    label='cluster '+ str(i+1))\n",
    " \n",
    "plt.scatter(centers[:,0],\n",
    "                    centers[:,1],\n",
    "                    s=250,\n",
    "                    marker='*',\n",
    "                    c='red',\n",
    "                    label='centroids')\n",
    "plt.legend(); plt.grid(); plt.show()"
   ]
  },
  {
   "cell_type": "code",
   "execution_count": null,
   "metadata": {},
   "outputs": [],
   "source": []
  }
 ],
 "metadata": {
  "kernelspec": {
   "display_name": "Python 2",
   "language": "python",
   "name": "python2"
  },
  "language_info": {
   "codemirror_mode": {
    "name": "ipython",
    "version": 2
   },
   "file_extension": ".py",
   "mimetype": "text/x-python",
   "name": "python",
   "nbconvert_exporter": "python",
   "pygments_lexer": "ipython2",
   "version": "2.7.12"
  }
 },
 "nbformat": 4,
 "nbformat_minor": 2
}
